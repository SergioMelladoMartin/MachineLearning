{
 "cells": [
  {
   "cell_type": "code",
   "execution_count": null,
   "metadata": {},
   "outputs": [],
   "source": [
    "# TensorFlow y tf.keras\n",
    "import tensorflow as tf\n",
    "from tensorflow import keras\n",
    "\n",
    "# Librerias de ayuda\n",
    "import numpy as np\n",
    "import matplotlib.pyplot as plt\n",
    "\n",
    "print(tf.__version__)"
   ]
  },
  {
   "cell_type": "code",
   "execution_count": null,
   "metadata": {},
   "outputs": [],
   "source": [
    "# Cargamos el dataset de Fashion MNIST\n",
    "fashion_mnist = keras.datasets.fashion_mnist\n",
    "# Cargamos los datos de entrenamiento y test\n",
    "(train_images, train_labels), (test_images, test_labels) = fashion_mnist.load_data()\n",
    "\n",
    "# Información del dataset\n",
    "print(\"Number of training images: \", len(train_labels))\n",
    "print(\"Number of test images: \", len(test_labels))\n",
    "print(\"Resolution of images: \", train_images.shape[1] , \"x\", train_images.shape[2])"
   ]
  },
  {
   "cell_type": "code",
   "execution_count": 4,
   "metadata": {},
   "outputs": [],
   "source": [
    "# Nombres de las clases\n",
    "class_names = ['T-shirt/top', 'Trouser', 'Pullover', 'Dress', 'Coat',\n",
    "               'Sandal', 'Shirt', 'Sneaker', 'Bag', 'Ankle boot']\n"
   ]
  },
  {
   "cell_type": "code",
   "execution_count": 5,
   "metadata": {},
   "outputs": [],
   "source": [
    "# Pasamos las imágenes a blanco y negro para que cada pixel tenga un valor entre 0 y 1\n",
    "train_images = train_images / 255.0\n",
    "test_images = test_images / 255.0"
   ]
  },
  {
   "attachments": {},
   "cell_type": "markdown",
   "metadata": {},
   "source": [
    "## Tipos de Capas\n",
    "- *Flatten:* Aplana la matriz de entrada en un vector unidimensional\n",
    "- *Dense:* Capa completamente conectada, es decir, cada neurona de la capa está conectada a cada neurona de la capa anterior y de la siguiente.\n",
    "\n",
    "## Funciones de activación\n",
    "- *ReLU:* Si x > 0, devuelve x, de lo contrario devuelve 0\n",
    "- *Softmax:* Devuelve un vector de probabilidades que suman 1"
   ]
  },
  {
   "cell_type": "code",
   "execution_count": 6,
   "metadata": {},
   "outputs": [],
   "source": [
    "# Creamos el modelo\n",
    "model = keras.Sequential()\n",
    "\n",
    "# Añadimos las capas\n",
    "model.add(keras.layers.Flatten(input_shape=(28, 28)))\n",
    "model.add(keras.layers.Dense(128, activation='relu'))\n",
    "model.add(keras.layers.Dense(10, activation='softmax'))"
   ]
  },
  {
   "attachments": {},
   "cell_type": "markdown",
   "metadata": {},
   "source": [
    "## Optimizadores\n",
    "- *Adam:* Optimizador de descenso de gradiente estocástico\n",
    "\n",
    "## Función de pérdida\n",
    "- *Categorical Crossentropy:* Función de pérdida para problemas de clasificación multiclase"
   ]
  },
  {
   "cell_type": "code",
   "execution_count": null,
   "metadata": {},
   "outputs": [],
   "source": [
    "# Compilamos el modelo\n",
    "model.compile(\n",
    "    optimizer='adam',\n",
    "    loss='sparse_categorical_crossentropy',\n",
    "    metrics=['accuracy']\n",
    ")\n",
    "\n",
    "# Entrenamos el modelo\n",
    "model.fit(train_images, train_labels, epochs=10)"
   ]
  },
  {
   "attachments": {},
   "cell_type": "markdown",
   "metadata": {},
   "source": [
    "## Métricas\n",
    "- *Accuracy:* Calcula la precisión de la clasificación, es decir, el porcentaje de imágenes que se clasificaron correctamente\n",
    "- *Loss*: Calcula la pérdida de la red neuronal, es decir, la diferencia entre la salida de la red neuronal y la salida deseada"
   ]
  },
  {
   "cell_type": "code",
   "execution_count": null,
   "metadata": {},
   "outputs": [],
   "source": [
    "#Cálculo de la precisión y pérdida del modelo\n",
    "test_loss, test_acc = model.evaluate(test_images,  test_labels, verbose=2)\n",
    "\n",
    "print('Test accuracy:' ,round(test_acc * 100, 3), '%')\n",
    "print('Test loss:' ,round(test_loss * 100, 3), '%')"
   ]
  },
  {
   "cell_type": "code",
   "execution_count": null,
   "metadata": {},
   "outputs": [],
   "source": [
    "# Función para mostrar una predicción\n",
    "def make_prediction(number):\n",
    "    plt.figure(figsize=(12, 4))\n",
    "    plt.subplot(1, 2, 1)\n",
    "    plt.imshow(test_images[number], cmap=plt.cm.binary)\n",
    "\n",
    "    result = model.predict(test_images[number].reshape(1, 28, 28))\n",
    "    result = result.tolist()[0]\n",
    "\n",
    "    print (\"Real: \", class_names[test_labels[number]])\n",
    "    print (\"Prediction: \", class_names[result.index(max(result))], \"(\", round(max(result) * 100, 3), \"% )\")\n",
    "\n",
    "    plt.subplot(1, 2, 2)\n",
    "    plt.bar(class_names, result)\n",
    "    plt.xticks(rotation=45)\n",
    "    \n",
    "    plt.subplots_adjust(wspace=0.5)\n",
    "    \n",
    "    plt.show()\n",
    "    \n",
    "make_prediction(100)"
   ]
  }
 ],
 "metadata": {
  "kernelspec": {
   "display_name": "Python 3",
   "language": "python",
   "name": "python3"
  },
  "language_info": {
   "codemirror_mode": {
    "name": "ipython",
    "version": 3
   },
   "file_extension": ".py",
   "mimetype": "text/x-python",
   "name": "python",
   "nbconvert_exporter": "python",
   "pygments_lexer": "ipython3",
   "version": "3.10.10"
  },
  "orig_nbformat": 4,
  "vscode": {
   "interpreter": {
    "hash": "72314bc56fbc7c30f6ddfe32e65ca0443b82f67edb55fdb2a67ef671e06fe13b"
   }
  }
 },
 "nbformat": 4,
 "nbformat_minor": 2
}
