{
  "cells": [
    {
      "cell_type": "code",
      "execution_count": null,
      "metadata": {
        "id": "tHXmeDm-S27W"
      },
      "outputs": [],
      "source": [
        "# TensorFlow y tf.keras\n",
        "import tensorflow as tf\n",
        "from tensorflow import keras\n",
        "\n",
        "# Librerias de ayuda\n",
        "import matplotlib.pyplot as plt\n",
        "\n",
        "# Early stopping\n",
        "from tensorflow.keras.callbacks import EarlyStopping\n",
        "\n",
        "print(tf.__version__)"
      ]
    },
    {
      "cell_type": "code",
      "execution_count": null,
      "metadata": {
        "id": "0eGAPs5nS27Y"
      },
      "outputs": [],
      "source": [
        "# Cargamos el dataset de Fashion MNIST\n",
        "fashion_mnist = keras.datasets.fashion_mnist\n",
        "# Cargamos los datos de entrenamiento y test\n",
        "(train_images, train_labels), (test_images, test_labels) = fashion_mnist.load_data()\n",
        "\n",
        "# Información del dataset\n",
        "print(\"Number of training images: \", len(train_labels))\n",
        "print(\"Number of test images: \", len(test_labels))\n",
        "print(\"Resolution of images: \", train_images.shape[1] , \"x\", train_images.shape[2])"
      ]
    },
    {
      "cell_type": "code",
      "execution_count": null,
      "metadata": {},
      "outputs": [],
      "source": [
        "# Nombres de las clases\n",
        "class_names = ['T-shirt/top', 'Trouser', 'Pullover', 'Dress', 'Coat',\n",
        "               'Sandal', 'Shirt', 'Sneaker', 'Bag', 'Ankle boot']"
      ]
    },
    {
      "cell_type": "code",
      "execution_count": null,
      "metadata": {},
      "outputs": [],
      "source": [
        "# Normalizamos los datos\n",
        "train_images = train_images / 255.0\n",
        "test_images = test_images / 255.0"
      ]
    },
    {
      "cell_type": "code",
      "execution_count": null,
      "metadata": {},
      "outputs": [],
      "source": [
        "# Definir la arquitectura del modelo\n",
        "model = tf.keras.Sequential([\n",
        "    tf.keras.layers.Conv2D(32, (3,3), input_shape=(28,28,1), activation='relu'),\n",
        "    tf.keras.layers.MaxPooling2D(2,2),\n",
        "\n",
        "    tf.keras.layers.Conv2D(64, (3,3), activation='relu'),\n",
        "    tf.keras.layers.MaxPooling2D(2,2),\n",
        "\n",
        "    tf.keras.layers.Flatten(),\n",
        "    tf.keras.layers.Dense(units=100, activation='relu'),\n",
        "    tf.keras.layers.Dense(10, activation='softmax')\n",
        "])\n",
        "\n",
        "# Añadimos Early Stopping\n",
        "earlystop_callback = EarlyStopping(\n",
        "  monitor='accuracy',\n",
        "  min_delta=0.001, \n",
        "  patience=3 \n",
        ")\n",
        "\n",
        "# Compilar el modelo con optimizador, función de pérdida y métricas\n",
        "model.compile(\n",
        "    optimizer='adam',\n",
        "    loss=tf.keras.losses.SparseCategoricalCrossentropy(),\n",
        "    metrics=['accuracy'],\n",
        "    callbacks=[earlystop_callback]\n",
        ")"
      ]
    },
    {
      "cell_type": "code",
      "execution_count": null,
      "metadata": {},
      "outputs": [],
      "source": [
        "# Entrenar el modelo\n",
        "import math\n",
        "\n",
        "history = model.fit(\n",
        "    train_images,\n",
        "    train_labels,\n",
        "    epochs=5,\n",
        "    steps_per_epoch=math.ceil(len(train_images)/32),\n",
        ")"
      ]
    },
    {
      "cell_type": "code",
      "execution_count": null,
      "metadata": {},
      "outputs": [],
      "source": [
        "# Función para mostrar una predicción\n",
        "def make_prediction(number):\n",
        "    plt.figure(figsize=(12, 4))\n",
        "    plt.subplot(1, 2, 1)\n",
        "    plt.imshow(test_images[number], cmap=plt.cm.binary)\n",
        "\n",
        "    result = model.predict(test_images[number].reshape(1, 28, 28), verbose=0).tolist()[0]\n",
        "\n",
        "    print (\"Real: \", class_names[test_labels[number]])\n",
        "    print (\"Prediction: \", class_names[result.index(max(result))], \"(\", round(max(result) * 100, 3), \"% )\")\n",
        "\n",
        "    plt.subplot(1, 2, 2)\n",
        "    plt.bar(class_names, result)\n",
        "    plt.xticks(rotation=45)\n",
        "    \n",
        "    plt.subplots_adjust(wspace=0.5)\n",
        "    \n",
        "    plt.show()"
      ]
    },
    {
      "cell_type": "code",
      "execution_count": 41,
      "metadata": {},
      "outputs": [],
      "source": [
        "# Exportar el modelo\n",
        "model.save('convolutional.h5')"
      ]
    }
  ],
  "metadata": {
    "colab": {
      "provenance": []
    },
    "kernelspec": {
      "display_name": "Python 3",
      "language": "python",
      "name": "python3"
    },
    "language_info": {
      "codemirror_mode": {
        "name": "ipython",
        "version": 3
      },
      "file_extension": ".py",
      "mimetype": "text/x-python",
      "name": "python",
      "nbconvert_exporter": "python",
      "pygments_lexer": "ipython3",
      "version": "3.10.10"
    },
    "vscode": {
      "interpreter": {
        "hash": "72314bc56fbc7c30f6ddfe32e65ca0443b82f67edb55fdb2a67ef671e06fe13b"
      }
    }
  },
  "nbformat": 4,
  "nbformat_minor": 0
}
