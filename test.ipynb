{
 "cells": [
  {
   "cell_type": "code",
   "execution_count": null,
   "metadata": {},
   "outputs": [],
   "source": [
    "# TensorFlow y tf.keras\n",
    "import tensorflow as tf\n",
    "from tensorflow import keras\n",
    "\n",
    "# Librerias de ayuda\n",
    "import numpy as np\n",
    "import matplotlib.pyplot as plt\n",
    "\n",
    "print(tf.__version__)"
   ]
  },
  {
   "cell_type": "code",
   "execution_count": null,
   "metadata": {},
   "outputs": [],
   "source": [
    "# Cargamos el dataset de Fashion MNIST\n",
    "fashion_mnist = keras.datasets.fashion_mnist\n",
    "# Cargamos los datos de entrenamiento y test\n",
    "(train_images, train_labels), (test_images, test_labels) = fashion_mnist.load_data()\n",
    "\n",
    "# Información del dataset\n",
    "print(\"Number of training images: \", len(train_labels))\n",
    "print(\"Number of test images: \", len(test_labels))\n",
    "print(\"Resolution of images: \", train_images.shape[1] , \"x\", train_images.shape[2])"
   ]
  },
  {
   "cell_type": "code",
   "execution_count": 19,
   "metadata": {},
   "outputs": [],
   "source": [
    "# Nombres de las clases\n",
    "class_names = ['T-shirt/top', 'Trouser', 'Pullover', 'Dress', 'Coat',\n",
    "               'Sandal', 'Shirt', 'Sneaker', 'Bag', 'Ankle boot']\n"
   ]
  },
  {
   "cell_type": "code",
   "execution_count": 23,
   "metadata": {},
   "outputs": [],
   "source": [
    "# Pasamos las imágenes a blanco y negro para que cada pixel tenga un valor entre 0 y 1\n",
    "train_images = train_images / 255.0\n",
    "test_images = test_images / 255.0"
   ]
  },
  {
   "attachments": {},
   "cell_type": "markdown",
   "metadata": {},
   "source": [
    "## Tipos de Capas\n",
    "- *Flatten:* Aplana la matriz de entrada en un vector unidimensional\n",
    "- *Dense:* Capa completamente conectada, es decir, cada neurona de la capa está conectada a cada neurona de la capa anterior y de la siguiente.\n",
    "\n",
    "## Funciones de activación\n",
    "- *ReLU:* Si x > 0, devuelve x, de lo contrario devuelve 0\n",
    "- *Softmax:* Devuelve un vector de probabilidades que suman 1"
   ]
  },
  {
   "cell_type": "code",
   "execution_count": 24,
   "metadata": {},
   "outputs": [],
   "source": [
    "# Creamos el modelo\n",
    "model = keras.Sequential()\n",
    "\n",
    "# Añadimos las capas\n",
    "model.add(keras.layers.Flatten(input_shape=(28, 28)))\n",
    "model.add(keras.layers.Dense(128, activation='relu'))\n",
    "model.add(keras.layers.Dense(10, activation='softmax'))"
   ]
  },
  {
   "attachments": {},
   "cell_type": "markdown",
   "metadata": {},
   "source": [
    "## Optimizadores\n",
    "- *Adam:* Optimizador de descenso de gradiente estocástico\n",
    "\n",
    "## Función de pérdida\n",
    "- *Categorical Crossentropy:* Función de pérdida para problemas de clasificación multiclase"
   ]
  },
  {
   "cell_type": "code",
   "execution_count": null,
   "metadata": {},
   "outputs": [],
   "source": [
    "# Compilamos el modelo\n",
    "model.compile(\n",
    "    optimizer='adam',\n",
    "    loss='sparse_categorical_crossentropy',\n",
    "    metrics=['accuracy']\n",
    ")\n",
    "\n",
    "# Entrenamos el modelo\n",
    "model.fit(train_images, train_labels, epochs=10)"
   ]
  },
  {
   "attachments": {},
   "cell_type": "markdown",
   "metadata": {},
   "source": [
    "## Métricas\n",
    "- *Accuracy:* Calcula la precisión de la clasificación, es decir, el porcentaje de imágenes que se clasificaron correctamente\n",
    "- *Loss*: Calcula la pérdida de la red neuronal, es decir, la diferencia entre la salida de la red neuronal y la salida deseada"
   ]
  },
  {
   "cell_type": "code",
   "execution_count": null,
   "metadata": {},
   "outputs": [],
   "source": [
    "#Cálculo de la precisión y pérdida del modelo\n",
    "test_loss, test_acc = model.evaluate(test_images,  test_labels, verbose=2)\n",
    "\n",
    "print('Test accuracy:' ,round(test_acc * 100, 3), '%')\n",
    "print('Test loss:' ,round(test_loss * 100, 3), '%')"
   ]
  },
  {
   "cell_type": "code",
   "execution_count": 75,
   "metadata": {},
   "outputs": [
    {
     "name": "stdout",
     "output_type": "stream",
     "text": [
      "1/1 [==============================] - 0s 53ms/step\n",
      "Real:  Ankle boot\n",
      "Prediction:  Ankle boot \n",
      "\n",
      "T-shirt/top : 0.0 %\n",
      "Trouser : 0.0 %\n",
      "Pullover : 0.0 %\n",
      "Dress : 0.0 %\n",
      "Coat : 0.0 %\n",
      "Sandal : 0.002 %\n",
      "Shirt : 0.0 %\n",
      "Sneaker : 0.591 %\n",
      "Bag : 0.0 %\n",
      "Ankle boot : 99.406 %\n"
     ]
    },
    {
     "data": {
      "image/png": "[encoded data removed]",
      "text/plain": [
       "<Figure size 640x480 with 1 Axes>"
      ]
     },
     "metadata": {},
     "output_type": "display_data"
    }
   ],
   "source": [
    "# Función para mostrar una predicción\n",
    "def make_prediction(number):\n",
    "    plt.figure()\n",
    "    plt.imshow(test_images[number], cmap=plt.cm.binary)\n",
    "\n",
    "    result = model.predict(test_images[number])\n",
    "    result = result.tolist()[0]\n",
    "\n",
    "    print (\"Real: \", class_names[test_labels[number]])\n",
    "    print (\"Prediction: \", class_names[result.index(max(result))], \"\\n\")\n",
    "\n",
    "    for i in range(len(result)):\n",
    "        print(class_names[i], \":\", round(result[i] * 100, 3), '%')\n",
    "\n",
    "    \n",
    "make_prediction(0)\n"
   ]
  },
  {
   "cell_type": "code",
   "execution_count": 66,
   "metadata": {},
   "outputs": [],
   "source": [
    "def plot_image(i, predictions_array, true_label, img):\n",
    "  predictions_array, true_label, img = predictions_array, true_label[i], img[i]\n",
    "  plt.grid(False)\n",
    "  plt.xticks([])\n",
    "  plt.yticks([])\n",
    "\n",
    "  plt.imshow(img, )\n",
    "\n",
    "  predicted_label = np.argmax(predictions_array)\n",
    "  if predicted_label == true_label:\n",
    "    color = 'blue'\n",
    "  else:\n",
    "    color = 'red'\n",
    "\n",
    "  plt.xlabel(\"{} {:2.0f}% ({})\".format(class_names[predicted_label],\n",
    "                                100*np.max(predictions_array),\n",
    "                                class_names[true_label]),\n",
    "                                color=color)\n",
    "\n",
    "def plot_value_array(i, predictions_array, true_label):\n",
    "  predictions_array, true_label = predictions_array, true_label[i]\n",
    "  plt.grid(False)\n",
    "  plt.xticks(range(10))\n",
    "  plt.yticks([])\n",
    "  thisplot = plt.bar(range(10), predictions_array, color=\"#777777\")\n",
    "  plt.ylim([0, 1])\n",
    "  predicted_label = np.argmax(predictions_array)\n",
    "\n",
    "  thisplot[predicted_label].set_color('red')\n",
    "  thisplot[true_label].set_color('blue')"
   ]
  }
 ],
 "metadata": {
  "kernelspec": {
   "display_name": "Python 3",
   "language": "python",
   "name": "python3"
  },
  "language_info": {
   "codemirror_mode": {
    "name": "ipython",
    "version": 3
   },
   "file_extension": ".py",
   "mimetype": "text/x-python",
   "name": "python",
   "nbconvert_exporter": "python",
   "pygments_lexer": "ipython3",
   "version": "3.10.10"
  },
  "orig_nbformat": 4,
  "vscode": {
   "interpreter": {
    "hash": "dfc28bc10b75572dc27aa207b5f4ff66b40a776b1a8563695f445dd22818d22b"
   }
  }
 },
 "nbformat": 4,
 "nbformat_minor": 2
}
