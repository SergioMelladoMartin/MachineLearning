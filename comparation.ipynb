{
 "cells": [
  {
   "cell_type": "code",
   "execution_count": 44,
   "metadata": {},
   "outputs": [],
   "source": [
    "from keras.models import load_model\n",
    "import pandas as pd\n",
    "from tensorflow import keras"
   ]
  },
  {
   "cell_type": "code",
   "execution_count": 60,
   "metadata": {},
   "outputs": [],
   "source": [
    "#Importar modelos\n",
    "basic_model = load_model('basic.h5')\n",
    "convolutional_model = load_model('convolutional.h5')\n",
    "\n",
    "models = [basic_model, convolutional_model]"
   ]
  },
  {
   "cell_type": "code",
   "execution_count": 61,
   "metadata": {},
   "outputs": [],
   "source": [
    "# Cargamos el dataset de Fashion MNIST\n",
    "fashion_mnist = keras.datasets.fashion_mnist\n",
    "# Cargamos los datos de entrenamiento y test\n",
    "(_, _), (test_images, test_labels) = fashion_mnist.load_data()"
   ]
  },
  {
   "cell_type": "code",
   "execution_count": 67,
   "metadata": {},
   "outputs": [],
   "source": [
    "def get_accuracy_loss_table(models):\n",
    "    table = pd.DataFrame(columns=['Model', 'Accuracy', 'Loss'])\n",
    "    for model in models:\n",
    "        model_name = model.name\n",
    "        accuracy, loss = model.evaluate(test_images, test_labels, verbose=0)\n",
    "        table.loc[len(table)] = [model_name, round(accuracy, 2), round(loss, 2)]\n",
    "\n",
    "    return table"
   ]
  },
  {
   "cell_type": "code",
   "execution_count": 70,
   "metadata": {},
   "outputs": [
    {
     "name": "stdout",
     "output_type": "stream",
     "text": [
      "          Model  Accuracy  Loss\n",
      "0    sequential     67.25  0.85\n",
      "1  sequential_3     95.42  0.73\n"
     ]
    }
   ],
   "source": [
    "print(get_accuracy_loss_table(models))"
   ]
  }
 ],
 "metadata": {
  "kernelspec": {
   "display_name": "Python 3",
   "language": "python",
   "name": "python3"
  },
  "language_info": {
   "codemirror_mode": {
    "name": "ipython",
    "version": 3
   },
   "file_extension": ".py",
   "mimetype": "text/x-python",
   "name": "python",
   "nbconvert_exporter": "python",
   "pygments_lexer": "ipython3",
   "version": "3.10.10"
  },
  "orig_nbformat": 4
 },
 "nbformat": 4,
 "nbformat_minor": 2
}
